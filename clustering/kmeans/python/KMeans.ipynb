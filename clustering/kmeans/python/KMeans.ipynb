{
 "cells": [
  {
   "cell_type": "markdown",
   "id": "c91460ca",
   "metadata": {},
   "source": [
    "[sklearn.cluster.KMeans example](https://github.com/minsuk-heo/python_tutorial/blob/master/data_science/kmean/kmean.ipynb)"
   ]
  },
  {
   "cell_type": "markdown",
   "id": "c03ce56a",
   "metadata": {},
   "source": [
    "[K-Means Clustering Concept](https://eunsukimme.github.io/ml/2019/12/16/K-Means)"
   ]
  },
  {
   "cell_type": "code",
   "execution_count": 1,
   "id": "bea99372",
   "metadata": {},
   "outputs": [],
   "source": [
    "import pandas as pd\n",
    "import numpy as np\n",
    "import matplotlib.pyplot as plt\n",
    "import seaborn as sns\n",
    "from sklearn.cluster import KMeans\n",
    "from matplotlib.animation import FuncAnimation"
   ]
  },
  {
   "cell_type": "code",
   "execution_count": 2,
   "id": "9b921097",
   "metadata": {},
   "outputs": [],
   "source": [
    "data_n = 20\n",
    "data = np.random.randint(0, 10, size=(data_n, 2))\n",
    "df = pd.DataFrame(data, columns=['x', 'y'])\n",
    "data_x = df.values[:, 0]\n",
    "data_y = df.values[:, 1]\n",
    "centroids_n = 3"
   ]
  },
  {
   "cell_type": "code",
   "execution_count": 3,
   "id": "06aae4c1",
   "metadata": {},
   "outputs": [
    {
     "data": {
      "text/html": [
       "<div>\n",
       "<style scoped>\n",
       "    .dataframe tbody tr th:only-of-type {\n",
       "        vertical-align: middle;\n",
       "    }\n",
       "\n",
       "    .dataframe tbody tr th {\n",
       "        vertical-align: top;\n",
       "    }\n",
       "\n",
       "    .dataframe thead th {\n",
       "        text-align: right;\n",
       "    }\n",
       "</style>\n",
       "<table border=\"1\" class=\"dataframe\">\n",
       "  <thead>\n",
       "    <tr style=\"text-align: right;\">\n",
       "      <th></th>\n",
       "      <th>x</th>\n",
       "      <th>y</th>\n",
       "    </tr>\n",
       "  </thead>\n",
       "  <tbody>\n",
       "    <tr>\n",
       "      <th>0</th>\n",
       "      <td>7</td>\n",
       "      <td>1</td>\n",
       "    </tr>\n",
       "    <tr>\n",
       "      <th>1</th>\n",
       "      <td>0</td>\n",
       "      <td>4</td>\n",
       "    </tr>\n",
       "    <tr>\n",
       "      <th>2</th>\n",
       "      <td>3</td>\n",
       "      <td>8</td>\n",
       "    </tr>\n",
       "    <tr>\n",
       "      <th>3</th>\n",
       "      <td>0</td>\n",
       "      <td>7</td>\n",
       "    </tr>\n",
       "    <tr>\n",
       "      <th>4</th>\n",
       "      <td>8</td>\n",
       "      <td>8</td>\n",
       "    </tr>\n",
       "  </tbody>\n",
       "</table>\n",
       "</div>"
      ],
      "text/plain": [
       "   x  y\n",
       "0  7  1\n",
       "1  0  4\n",
       "2  3  8\n",
       "3  0  7\n",
       "4  8  8"
      ]
     },
     "execution_count": 3,
     "metadata": {},
     "output_type": "execute_result"
    }
   ],
   "source": [
    "df.head(5)"
   ]
  },
  {
   "cell_type": "code",
   "execution_count": 4,
   "id": "0d40fa86",
   "metadata": {},
   "outputs": [
    {
     "data": {
      "text/plain": [
       "<AxesSubplot:xlabel='x', ylabel='y'>"
      ]
     },
     "execution_count": 4,
     "metadata": {},
     "output_type": "execute_result"
    },
    {
     "data": {
      "image/png": "[encoded data removed]",
      "text/plain": [
       "<Figure size 432x288 with 1 Axes>"
      ]
     },
     "metadata": {
      "needs_background": "light"
     },
     "output_type": "display_data"
    }
   ],
   "source": [
    "df.plot.scatter(x='x', y='y', colormap='viridis')"
   ]
  },
  {
   "cell_type": "markdown",
   "id": "919c9d00",
   "metadata": {},
   "source": [
    "# sklearn"
   ]
  },
  {
   "cell_type": "code",
   "execution_count": 5,
   "id": "2f176141",
   "metadata": {},
   "outputs": [],
   "source": [
    "kmeans = KMeans(n_clusters=centroids_n).fit(df.values)\n",
    "df['cluster'] = kmeans.labels_"
   ]
  },
  {
   "cell_type": "code",
   "execution_count": 6,
   "id": "2b961560",
   "metadata": {},
   "outputs": [
    {
     "data": {
      "text/html": [
       "<div>\n",
       "<style scoped>\n",
       "    .dataframe tbody tr th:only-of-type {\n",
       "        vertical-align: middle;\n",
       "    }\n",
       "\n",
       "    .dataframe tbody tr th {\n",
       "        vertical-align: top;\n",
       "    }\n",
       "\n",
       "    .dataframe thead th {\n",
       "        text-align: right;\n",
       "    }\n",
       "</style>\n",
       "<table border=\"1\" class=\"dataframe\">\n",
       "  <thead>\n",
       "    <tr style=\"text-align: right;\">\n",
       "      <th></th>\n",
       "      <th>x</th>\n",
       "      <th>y</th>\n",
       "      <th>cluster</th>\n",
       "    </tr>\n",
       "  </thead>\n",
       "  <tbody>\n",
       "    <tr>\n",
       "      <th>0</th>\n",
       "      <td>7</td>\n",
       "      <td>1</td>\n",
       "      <td>1</td>\n",
       "    </tr>\n",
       "    <tr>\n",
       "      <th>1</th>\n",
       "      <td>0</td>\n",
       "      <td>4</td>\n",
       "      <td>2</td>\n",
       "    </tr>\n",
       "    <tr>\n",
       "      <th>2</th>\n",
       "      <td>3</td>\n",
       "      <td>8</td>\n",
       "      <td>0</td>\n",
       "    </tr>\n",
       "    <tr>\n",
       "      <th>3</th>\n",
       "      <td>0</td>\n",
       "      <td>7</td>\n",
       "      <td>2</td>\n",
       "    </tr>\n",
       "    <tr>\n",
       "      <th>4</th>\n",
       "      <td>8</td>\n",
       "      <td>8</td>\n",
       "      <td>0</td>\n",
       "    </tr>\n",
       "  </tbody>\n",
       "</table>\n",
       "</div>"
      ],
      "text/plain": [
       "   x  y  cluster\n",
       "0  7  1        1\n",
       "1  0  4        2\n",
       "2  3  8        0\n",
       "3  0  7        2\n",
       "4  8  8        0"
      ]
     },
     "execution_count": 6,
     "metadata": {},
     "output_type": "execute_result"
    }
   ],
   "source": [
    "df.head(5)"
   ]
  },
  {
   "cell_type": "code",
   "execution_count": 7,
   "id": "29228851",
   "metadata": {},
   "outputs": [
    {
     "name": "stderr",
     "output_type": "stream",
     "text": [
      "/home/zeros/.local/lib/python3.8/site-packages/pandas/plotting/_matplotlib/tools.py:331: MatplotlibDeprecationWarning: \n",
      "The is_first_col function was deprecated in Matplotlib 3.4 and will be removed two minor releases later. Use ax.get_subplotspec().is_first_col() instead.\n",
      "  if ax.is_first_col():\n"
     ]
    },
    {
     "data": {
      "text/plain": [
       "<AxesSubplot:xlabel='x', ylabel='y'>"
      ]
     },
     "execution_count": 7,
     "metadata": {},
     "output_type": "execute_result"
    },
    {
     "data": {
      "image/png": "[encoded data removed]",
      "text/plain": [
       "<Figure size 432x288 with 2 Axes>"
      ]
     },
     "metadata": {
      "needs_background": "light"
     },
     "output_type": "display_data"
    }
   ],
   "source": [
    "df.plot.scatter(x='x', y='y', c='cluster', colormap='viridis')"
   ]
  },
  {
   "cell_type": "code",
   "execution_count": 15,
   "id": "beabfbe8",
   "metadata": {},
   "outputs": [
    {
     "name": "stderr",
     "output_type": "stream",
     "text": [
      "/home/zeros/.local/lib/python3.8/site-packages/pandas/plotting/_matplotlib/tools.py:331: MatplotlibDeprecationWarning: \n",
      "The is_first_col function was deprecated in Matplotlib 3.4 and will be removed two minor releases later. Use ax.get_subplotspec().is_first_col() instead.\n",
      "  if ax.is_first_col():\n"
     ]
    },
    {
     "data": {
      "image/png": "[encoded data removed]",
      "text/plain": [
       "<Figure size 432x288 with 2 Axes>"
      ]
     },
     "metadata": {
      "needs_background": "light"
     },
     "output_type": "display_data"
    }
   ],
   "source": [
    "def sklean_kmeans():\n",
    "    kmeans = KMeans(n_clusters=centroids_n).fit(df.values)\n",
    "    df['cluster'] = kmeans.labels_\n",
    "    \n",
    "    df.head(5)\n",
    "\n",
    "    df.plot.scatter(x='x', y='y', c='cluster', colormap='viridis')\n",
    "    kmeans.cluster_centers_\n",
    "    plt.scatter(data_x, data_y, c=df['cluster'])\n",
    "    plt.scatter(kmeans.cluster_centers_[:, 0], kmeans.cluster_centers_[:, 1], c='red')\n",
    "    \n",
    "sklean_kmeans()"
   ]
  },
  {
   "cell_type": "markdown",
   "id": "65a7dbc4",
   "metadata": {},
   "source": [
    "# Implement"
   ]
  },
  {
   "cell_type": "markdown",
   "id": "90a253c8",
   "metadata": {},
   "source": [
    "## STEP01: Place k random centroids"
   ]
  },
  {
   "cell_type": "code",
   "execution_count": 9,
   "id": "99cb76e8",
   "metadata": {},
   "outputs": [
    {
     "data": {
      "text/plain": [
       "<matplotlib.collections.PathCollection at 0x7f95319abf70>"
      ]
     },
     "execution_count": 9,
     "metadata": {},
     "output_type": "execute_result"
    },
    {
     "data": {
      "image/png": "[encoded data removed]",
      "text/plain": [
       "<Figure size 432x288 with 1 Axes>"
      ]
     },
     "metadata": {
      "needs_background": "light"
     },
     "output_type": "display_data"
    }
   ],
   "source": [
    "def randomize():\n",
    "    centroids_x = np.random.uniform(min(data_x), max(data_x), centroids_n)\n",
    "    centroids_y = np.random.uniform(min(data_y), max(data_y), centroids_n)\n",
    "    return centroids_x, centroids_y\n",
    "\n",
    "centroids_x, centroids_y = randomize()\n",
    "plt.scatter(data_x, data_y, c=\"gray\")\n",
    "plt.scatter(centroids_x, centroids_y, c=\"red\")"
   ]
  },
  {
   "cell_type": "markdown",
   "id": "ced82f68",
   "metadata": {},
   "source": [
    "## STEP02: Assign datas to nearest centroids"
   ]
  },
  {
   "cell_type": "code",
   "execution_count": 10,
   "id": "4b014530",
   "metadata": {},
   "outputs": [],
   "source": [
    "def distance(x, y, u, v):\n",
    "    return ((x - u)**2 + (y - v)**2)**0.5"
   ]
  },
  {
   "cell_type": "code",
   "execution_count": 11,
   "id": "2af04c63",
   "metadata": {},
   "outputs": [
    {
     "name": "stdout",
     "output_type": "stream",
     "text": [
      "centroids  :  [2 0 0 0 2 0 0 1 0 2 0 2 0 0 0 0 0 0 2 0]\n",
      "centroids_x:  [3.16074988 8.57575333 7.32525462]\n",
      "centroids_y:  [2.74900183 1.53256467 1.84588878]\n"
     ]
    },
    {
     "data": {
      "text/plain": [
       "<matplotlib.collections.PathCollection at 0x7f9531915ca0>"
      ]
     },
     "execution_count": 11,
     "metadata": {},
     "output_type": "execute_result"
    },
    {
     "data": {
      "image/png": "[encoded data removed]",
      "text/plain": [
       "<Figure size 432x288 with 1 Axes>"
      ]
     },
     "metadata": {
      "needs_background": "light"
     },
     "output_type": "display_data"
    }
   ],
   "source": [
    "def nearest(centroids_x, centroids_y):\n",
    "    centroids = np.zeros(data_n, dtype=int)\n",
    "    for d in range(data_n):\n",
    "        distances = np.zeros(centroids_n)\n",
    "        for c in range(centroids_n):\n",
    "            distances[c] = distance(data_x[d], data_y[d], centroids_x[c], centroids_y[c])\n",
    "        centroids[d] = np.argmin(distances)\n",
    "    return centroids\n",
    "    \n",
    "centroids = nearest(centroids_x, centroids_y)\n",
    "print(\"centroids  : \", centroids)\n",
    "print(\"centroids_x: \", centroids_x)\n",
    "print(\"centroids_y: \", centroids_y)\n",
    "plt.scatter(data_x, data_y, c=centroids)\n",
    "plt.scatter(centroids_x, centroids_y, c=\"red\")"
   ]
  },
  {
   "cell_type": "markdown",
   "id": "fc911a58",
   "metadata": {},
   "source": [
    "## STEP03: Update centroids"
   ]
  },
  {
   "cell_type": "code",
   "execution_count": 12,
   "id": "49c844e0",
   "metadata": {},
   "outputs": [
    {
     "name": "stdout",
     "output_type": "stream",
     "text": [
      "    means_x:  [2.57142857 9.         7.        ]\n",
      "    means_y:  [4.42857143 2.         4.        ]\n"
     ]
    },
    {
     "data": {
      "image/png": "[encoded data removed]",
      "text/plain": [
       "<Figure size 432x288 with 1 Axes>"
      ]
     },
     "metadata": {
      "needs_background": "light"
     },
     "output_type": "display_data"
    }
   ],
   "source": [
    "def update():\n",
    "    means_x = np.zeros(centroids_n)\n",
    "    means_y = np.zeros(centroids_n)\n",
    "    counts = np.zeros(centroids_n)\n",
    "    \n",
    "    for i in range(data_n):\n",
    "        c = centroids[i]\n",
    "        means_x[c] = means_x[c] + data_x[i]\n",
    "        means_y[c] = means_y[c] + data_y[i]\n",
    "        counts[c] = counts[c] + 1\n",
    "    \n",
    "    for c in range(centroids_n):\n",
    "        means_x[c] = means_x[c] / counts[c];\n",
    "        means_y[c] = means_y[c] / counts[c];\n",
    "        \n",
    "    return means_x, means_y\n",
    "\n",
    "def chart(before=False):\n",
    "    print(\"    means_x: \", means_x)\n",
    "    print(\"    means_y: \", means_y)\n",
    "    plt.scatter(data_x, data_y, c=centroids)\n",
    "    \n",
    "    if before:\n",
    "        plt.scatter(centroids_x, centroids_y, c=\"red\")\n",
    "    plt.scatter(means_x, means_y, c=\"blue\")\n",
    "    \n",
    "means_x, means_y = update()\n",
    "chart(before=True)"
   ]
  },
  {
   "cell_type": "code",
   "execution_count": 16,
   "id": "e4f9f562",
   "metadata": {},
   "outputs": [
    {
     "name": "stdout",
     "output_type": "stream",
     "text": [
      "    means_x:  [2.57142857 9.         7.        ]\n",
      "    means_y:  [4.42857143 2.         4.        ]\n"
     ]
    },
    {
     "name": "stderr",
     "output_type": "stream",
     "text": [
      "/home/zeros/.local/lib/python3.8/site-packages/pandas/plotting/_matplotlib/tools.py:331: MatplotlibDeprecationWarning: \n",
      "The is_first_col function was deprecated in Matplotlib 3.4 and will be removed two minor releases later. Use ax.get_subplotspec().is_first_col() instead.\n",
      "  if ax.is_first_col():\n"
     ]
    },
    {
     "data": {
      "image/png": "[encoded data removed]",
      "text/plain": [
       "<Figure size 432x288 with 1 Axes>"
      ]
     },
     "metadata": {
      "needs_background": "light"
     },
     "output_type": "display_data"
    },
    {
     "data": {
      "image/png": "[encoded data removed]",
      "text/plain": [
       "<Figure size 432x288 with 2 Axes>"
      ]
     },
     "metadata": {
      "needs_background": "light"
     },
     "output_type": "display_data"
    }
   ],
   "source": [
    "def cluster():\n",
    "    for i in range(100):\n",
    "        centroids_x, centroids_y = randomize()\n",
    "        centroids = nearest(centroids_x, centroids_y)\n",
    "        means_x, means_y = update()\n",
    "    \n",
    "        if np.allclose(centroids_y, means_y):\n",
    "            break\n",
    "\n",
    "cluster()\n",
    "chart()\n",
    "\n",
    "sklean_kmeans()"
   ]
  }
 ],
 "metadata": {
  "kernelspec": {
   "display_name": "Python 3",
   "language": "python",
   "name": "python3"
  },
  "language_info": {
   "codemirror_mode": {
    "name": "ipython",
    "version": 3
   },
   "file_extension": ".py",
   "mimetype": "text/x-python",
   "name": "python",
   "nbconvert_exporter": "python",
   "pygments_lexer": "ipython3",
   "version": "3.8.2"
  }
 },
 "nbformat": 4,
 "nbformat_minor": 5
}
