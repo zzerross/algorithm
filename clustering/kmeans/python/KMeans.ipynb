{
 "cells": [
  {
   "cell_type": "markdown",
   "id": "c91460ca",
   "metadata": {},
   "source": [
    "[sklearn.cluster.KMeans example](https://github.com/minsuk-heo/python_tutorial/blob/master/data_science/kmean/kmean.ipynb)"
   ]
  },
  {
   "cell_type": "markdown",
   "id": "c03ce56a",
   "metadata": {},
   "source": [
    "[K-Means Clustering Concept](https://eunsukimme.github.io/ml/2019/12/16/K-Means)"
   ]
  },
  {
   "cell_type": "code",
   "execution_count": 1,
   "id": "bea99372",
   "metadata": {},
   "outputs": [],
   "source": [
    "import pandas as pd\n",
    "import numpy as np\n",
    "import matplotlib.pyplot as plt\n",
    "import seaborn as sns\n",
    "from sklearn.cluster import KMeans\n",
    "from matplotlib.animation import FuncAnimation\n",
    "from copy import deepcopy"
   ]
  },
  {
   "cell_type": "code",
   "execution_count": 2,
   "id": "92754da9",
   "metadata": {},
   "outputs": [],
   "source": [
    "def charting(means_x, means_y, centroids, init_x=None, init_y=None):\n",
    "    if init_x is not None:\n",
    "        if init_y is not None:\n",
    "            print(\"     init_x:\", init_x)            \n",
    "            print(\"     init_y:\", init_y)\n",
    "            plt.scatter(init_x, init_y, c=\"red\")\n",
    "    # print(\"  centroids:\", centroids)\n",
    "    print(\"    means_x:\", means_x)\n",
    "    print(\"    means_y:\", means_y)\n",
    "    plt.scatter(data_x, data_y, c=centroids)    \n",
    "    plt.scatter(means_x, means_y, c=\"blue\")"
   ]
  },
  {
   "cell_type": "code",
   "execution_count": 3,
   "id": "dc6c6f50",
   "metadata": {},
   "outputs": [],
   "source": [
    "def generate(generate):\n",
    "    file = \"../data/input\" + str(data_n) + \".0.csv\"\n",
    "    columns=[\"x\", \"y\"]\n",
    "    df = None\n",
    "    if generate:\n",
    "        data = np.random.randint(0, 100, size=(data_n, 2))\n",
    "        df = pd.DataFrame(data, columns=columns)\n",
    "        df.to_csv(file, sep=\" \", columns=columns, header=False, index=False)\n",
    "    else:\n",
    "        df = pd.read_csv(file, sep=\" \", names=columns)\n",
    "    return df"
   ]
  },
  {
   "cell_type": "code",
   "execution_count": 4,
   "id": "9b921097",
   "metadata": {},
   "outputs": [],
   "source": [
    "data_n = 20\n",
    "df = generate(False)\n",
    "data_x = df.values[:, 0]\n",
    "data_y = df.values[:, 1]\n",
    "centroids_n = 3\n",
    "centroids = np.zeros(data_n)\n",
    "means_x = np.zeros(centroids_n)\n",
    "means_y = np.zeros(centroids_n)\n",
    "errors = np.zeros(centroids_n)"
   ]
  },
  {
   "cell_type": "markdown",
   "id": "919c9d00",
   "metadata": {},
   "source": [
    "# Reference using sklearn"
   ]
  },
  {
   "cell_type": "code",
   "execution_count": 5,
   "id": "c19ccc02",
   "metadata": {},
   "outputs": [
    {
     "name": "stdout",
     "output_type": "stream",
     "text": [
      "    means_x: [68.57142857 56.         17.33333333]\n",
      "    means_y: [68.28571429 19.         48.        ]\n"
     ]
    },
    {
     "data": {
      "image/png": "[encoded data removed]",
      "text/plain": [
       "<Figure size 432x288 with 1 Axes>"
      ]
     },
     "metadata": {
      "needs_background": "light"
     },
     "output_type": "display_data"
    }
   ],
   "source": [
    "def sklean_kmeans():\n",
    "    kmeans = KMeans(n_clusters=centroids_n).fit(df.values)\n",
    "    charting(kmeans.cluster_centers_[:, 0], kmeans.cluster_centers_[:, 1], kmeans.labels_)\n",
    "\n",
    "sklean_kmeans()"
   ]
  },
  {
   "cell_type": "markdown",
   "id": "0556ca4f",
   "metadata": {},
   "source": [
    "# Reference using  ImadDabbura.kmeans\n",
    "https://towardsdatascience.com/k-means-clustering-algorithm-applications-evaluation-methods-and-drawbacks-aa03e644b48a"
   ]
  },
  {
   "cell_type": "code",
   "execution_count": 6,
   "id": "8056a5e0",
   "metadata": {},
   "outputs": [
    {
     "name": "stdout",
     "output_type": "stream",
     "text": [
      "    means_x: [71.625      17.33333333 49.83333333]\n",
      "    means_y: [63.375      48.         17.33333333]\n"
     ]
    },
    {
     "data": {
      "image/png": "[encoded data removed]",
      "text/plain": [
       "<Figure size 432x288 with 1 Axes>"
      ]
     },
     "metadata": {
      "needs_background": "light"
     },
     "output_type": "display_data"
    }
   ],
   "source": [
    "import ImadDabbura.kmeans\n",
    "\n",
    "def ImadDabburaKmeans():\n",
    "    km = ImadDabbura.kmeans.Kmeans(n_clusters=centroids_n)\n",
    "    km.fit(df.values)\n",
    "    charting(km.centroids[:, 0], km.centroids[:, 1], km.labels)\n",
    "    \n",
    "ImadDabburaKmeans()"
   ]
  },
  {
   "cell_type": "code",
   "execution_count": 7,
   "id": "8a6e2957",
   "metadata": {},
   "outputs": [
    {
     "data": {
      "image/png": "[encoded data removed]",
      "text/plain": [
       "<Figure size 432x288 with 1 Axes>"
      ]
     },
     "metadata": {
      "needs_background": "light"
     },
     "output_type": "display_data"
    },
    {
     "data": {
      "text/plain": [
       "array([[77.5       , 65.        ],\n",
       "       [32.66666667, 57.5       ],\n",
       "       [39.375     , 20.5       ]])"
      ]
     },
     "execution_count": 7,
     "metadata": {},
     "output_type": "execute_result"
    }
   ],
   "source": [
    "from eunsukimme.kmeans import eunsukimme_kmeans\n",
    "\n",
    "eunsukimme_kmeans(df.values, centroids_n)"
   ]
  },
  {
   "cell_type": "markdown",
   "id": "65a7dbc4",
   "metadata": {},
   "source": [
    "# Implement"
   ]
  },
  {
   "cell_type": "markdown",
   "id": "90a253c8",
   "metadata": {},
   "source": [
    "## STEP01: Place k random centroids"
   ]
  },
  {
   "cell_type": "code",
   "execution_count": 8,
   "id": "99cb76e8",
   "metadata": {},
   "outputs": [
    {
     "data": {
      "text/plain": [
       "<matplotlib.collections.PathCollection at 0x7f56284eadf0>"
      ]
     },
     "execution_count": 8,
     "metadata": {},
     "output_type": "execute_result"
    },
    {
     "data": {
      "image/png": "[encoded data removed]",
      "text/plain": [
       "<Figure size 432x288 with 1 Axes>"
      ]
     },
     "metadata": {
      "needs_background": "light"
     },
     "output_type": "display_data"
    }
   ],
   "source": [
    "def randomize():\n",
    "    centroids_x = np.random.uniform(min(data_x), max(data_x), centroids_n)\n",
    "    centroids_y = np.random.uniform(min(data_y), max(data_y), centroids_n)\n",
    "    return centroids_x, centroids_y\n",
    "\n",
    "centroids_x, centroids_y = randomize()\n",
    "plt.scatter(data_x, data_y, c=\"gray\")\n",
    "plt.scatter(centroids_x, centroids_y, c=\"red\")"
   ]
  },
  {
   "cell_type": "markdown",
   "id": "ced82f68",
   "metadata": {},
   "source": [
    "## STEP02: Assign datas to nearest centroids"
   ]
  },
  {
   "cell_type": "code",
   "execution_count": 9,
   "id": "4b014530",
   "metadata": {},
   "outputs": [],
   "source": [
    "def distance(x, y, u, v):\n",
    "    return ((x - u)**2 + (y - v)**2)**0.5"
   ]
  },
  {
   "cell_type": "code",
   "execution_count": 10,
   "id": "0882a713",
   "metadata": {},
   "outputs": [],
   "source": [
    "def error(old_x, old_y, new_x, new_y):\n",
    "    for i in range(centroids_n):\n",
    "        errors[i] = distance(old_x[i], old_y[i], new_x[i], new_y[i])"
   ]
  },
  {
   "cell_type": "code",
   "execution_count": 11,
   "id": "1d900525",
   "metadata": {},
   "outputs": [],
   "source": [
    "def evaluate(centroids_x, centroids_y):\n",
    "    distances = np.zeros(centroids_n)\n",
    "    counts = np.zeros(centroids_n)\n",
    "    for d in range(data_n):\n",
    "        c = int(centroids[d])\n",
    "        distances[c] = distances[c] + distance(data_x[d], data_y[d], centroids_x[c], centroids_y[c])\n",
    "        counts[c] += 1\n",
    "    a = 0.\n",
    "    for c in range(centroids_n):\n",
    "        a = a + distances[c] / counts[c]\n",
    "    return a / centroids_n"
   ]
  },
  {
   "cell_type": "code",
   "execution_count": 12,
   "id": "2af04c63",
   "metadata": {},
   "outputs": [
    {
     "name": "stdout",
     "output_type": "stream",
     "text": [
      "    means_x: [65.84080678 45.3342904  28.20097763]\n",
      "    means_y: [ 2.98418433 43.89726849 63.24352149]\n"
     ]
    },
    {
     "data": {
      "image/png": "[encoded data removed]",
      "text/plain": [
       "<Figure size 432x288 with 1 Axes>"
      ]
     },
     "metadata": {
      "needs_background": "light"
     },
     "output_type": "display_data"
    }
   ],
   "source": [
    "def nearest():\n",
    "    for d in range(data_n):\n",
    "        distances = np.zeros(centroids_n)\n",
    "        for c in range(centroids_n):\n",
    "            distances[c] = distance(data_x[d], data_y[d], centroids_x[c], centroids_y[c])\n",
    "        centroids[d] = np.argmin(distances)\n",
    "    \n",
    "nearest()\n",
    "charting(centroids_x, centroids_y, centroids)"
   ]
  },
  {
   "cell_type": "markdown",
   "id": "fc911a58",
   "metadata": {},
   "source": [
    "## STEP03: Update centroids"
   ]
  },
  {
   "cell_type": "code",
   "execution_count": 13,
   "id": "49c844e0",
   "metadata": {},
   "outputs": [
    {
     "name": "stdout",
     "output_type": "stream",
     "text": [
      "    means_x: [65.84080678 45.3342904  28.20097763]\n",
      "    means_y: [ 2.98418433 43.89726849 63.24352149]\n"
     ]
    },
    {
     "data": {
      "image/png": "[encoded data removed]",
      "text/plain": [
       "<Figure size 432x288 with 1 Axes>"
      ]
     },
     "metadata": {
      "needs_background": "light"
     },
     "output_type": "display_data"
    }
   ],
   "source": [
    "def update():\n",
    "    counts = np.zeros(centroids_n)\n",
    "    sum_x = np.zeros(data_n)\n",
    "    sum_y = np.zeros(data_n)\n",
    "    for i in range(data_n):\n",
    "        c = int(centroids[i])\n",
    "        sum_x[c] = sum_x[c] + data_x[i]\n",
    "        sum_y[c] = sum_y[c] + data_y[i]\n",
    "        counts[c] = counts[c] + 1\n",
    "    \n",
    "    for c in range(centroids_n):\n",
    "        means_x[c] = sum_x[c] / counts[c];\n",
    "        means_y[c] = sum_y[c] / counts[c];\n",
    "    \n",
    "update()\n",
    "charting(centroids_x, centroids_y, centroids)"
   ]
  },
  {
   "cell_type": "code",
   "execution_count": 14,
   "id": "e4f9f562",
   "metadata": {},
   "outputs": [
    {
     "name": "stdout",
     "output_type": "stream",
     "text": [
      "      count: 2\n",
      "     init_x: [26.28412844 62.34104123 53.36025959]\n",
      "     init_y: [79.38187029 44.49877323 39.34245681]\n",
      "    means_x: [74.         54.54545455 25.66666667]\n",
      "    means_y: [11.33333333 48.09090909 56.        ]\n"
     ]
    },
    {
     "data": {
      "text/plain": [
       "22.18851258619287"
      ]
     },
     "execution_count": 14,
     "metadata": {},
     "output_type": "execute_result"
    },
    {
     "data": {
      "image/png": "[encoded data removed]",
      "text/plain": [
       "<Figure size 432x288 with 1 Axes>"
      ]
     },
     "metadata": {
      "needs_background": "light"
     },
     "output_type": "display_data"
    }
   ],
   "source": [
    "def cluster():\n",
    "    count = 0\n",
    "    centroids_x, centroids_y = randomize()\n",
    "    init_x = deepcopy(centroids_x)\n",
    "    init_y = deepcopy(centroids_y)\n",
    "    error(centroids_x, centroids_y, means_x, means_y)        \n",
    "    while (errors.all() != 0):\n",
    "        nearest()\n",
    "        update()\n",
    "        error(centroids_x, centroids_y, means_x, means_y)        \n",
    "        centroids_x = deepcopy(means_x)\n",
    "        centroids_y = deepcopy(means_y)\n",
    "        count = count + 1    \n",
    "    print(\"      count:\", count)\n",
    "    charting(centroids_x, centroids_y, centroids, init_x, init_y)\n",
    "\n",
    "cluster()\n",
    "evaluate(centroids_x, centroids_y)"
   ]
  },
  {
   "cell_type": "code",
   "execution_count": 15,
   "id": "d66e3021",
   "metadata": {},
   "outputs": [
    {
     "data": {
      "image/png": "[encoded data removed]",
      "text/plain": [
       "<Figure size 432x288 with 1 Axes>"
      ]
     },
     "metadata": {
      "needs_background": "light"
     },
     "output_type": "display_data"
    },
    {
     "data": {
      "text/plain": [
       "45.62324460174273"
      ]
     },
     "execution_count": 15,
     "metadata": {},
     "output_type": "execute_result"
    }
   ],
   "source": [
    "c = eunsukimme_kmeans(df.values, centroids_n)\n",
    "evaluate(c[:, 0], c[:, 1])"
   ]
  },
  {
   "cell_type": "code",
   "execution_count": 16,
   "id": "0db144c0",
   "metadata": {},
   "outputs": [
    {
     "name": "stdout",
     "output_type": "stream",
     "text": [
      "    means_x: [17.33333333 68.57142857 56.        ]\n",
      "    means_y: [48.         68.28571429 19.        ]\n"
     ]
    },
    {
     "data": {
      "image/png": "[encoded data removed]",
      "text/plain": [
       "<Figure size 432x288 with 1 Axes>"
      ]
     },
     "metadata": {
      "needs_background": "light"
     },
     "output_type": "display_data"
    }
   ],
   "source": [
    "sklean_kmeans()"
   ]
  },
  {
   "cell_type": "code",
   "execution_count": 17,
   "id": "ad25a12b",
   "metadata": {},
   "outputs": [
    {
     "name": "stdout",
     "output_type": "stream",
     "text": [
      "    means_x: [32.66666667 39.375      77.5       ]\n",
      "    means_y: [57.5 20.5 65. ]\n"
     ]
    },
    {
     "data": {
      "image/png": "[encoded data removed]",
      "text/plain": [
       "<Figure size 432x288 with 1 Axes>"
      ]
     },
     "metadata": {
      "needs_background": "light"
     },
     "output_type": "display_data"
    }
   ],
   "source": [
    "ImadDabburaKmeans()"
   ]
  }
 ],
 "metadata": {
  "kernelspec": {
   "display_name": "Python 3",
   "language": "python",
   "name": "python3"
  },
  "language_info": {
   "codemirror_mode": {
    "name": "ipython",
    "version": 3
   },
   "file_extension": ".py",
   "mimetype": "text/x-python",
   "name": "python",
   "nbconvert_exporter": "python",
   "pygments_lexer": "ipython3",
   "version": "3.8.8"
  }
 },
 "nbformat": 4,
 "nbformat_minor": 5
}
