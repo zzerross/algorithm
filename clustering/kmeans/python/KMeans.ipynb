{
 "cells": [
  {
   "cell_type": "markdown",
   "id": "c91460ca",
   "metadata": {},
   "source": [
    "[sklearn.cluster.KMeans example](https://github.com/minsuk-heo/python_tutorial/blob/master/data_science/kmean/kmean.ipynb)"
   ]
  },
  {
   "cell_type": "markdown",
   "id": "c03ce56a",
   "metadata": {},
   "source": [
    "[K-Means Clustering Concept](https://eunsukimme.github.io/ml/2019/12/16/K-Means)"
   ]
  },
  {
   "cell_type": "code",
   "execution_count": 1,
   "id": "bea99372",
   "metadata": {},
   "outputs": [],
   "source": [
    "import pandas as pd\n",
    "import numpy as np\n",
    "import matplotlib.pyplot as plt\n",
    "import seaborn as sns\n",
    "from sklearn.cluster import KMeans\n",
    "from matplotlib.animation import FuncAnimation\n",
    "from copy import deepcopy\n",
    "\n",
    "import ImadDabbura.kmeans\n",
    "from eunsukimme.kmeans import eunsukimme_kmeans"
   ]
  },
  {
   "cell_type": "code",
   "execution_count": 2,
   "id": "92754da9",
   "metadata": {},
   "outputs": [],
   "source": [
    "def charting(dx, dy, dc, cx, cy):\n",
    "    print(\"cx:\", cx)\n",
    "    print(\"cy:\", cy)\n",
    "    plt.scatter(dx, dy, c=dc)    \n",
    "    plt.scatter(cx, cy, c=\"red\")"
   ]
  },
  {
   "cell_type": "code",
   "execution_count": 3,
   "id": "dc6c6f50",
   "metadata": {},
   "outputs": [],
   "source": [
    "def generate(dn, cn, r):\n",
    "    p = \"../data/input\" + str(dn) + \".0.csv\"\n",
    "    c = [\"x\", \"y\"]\n",
    "    df = None\n",
    "    if r:\n",
    "        d = np.random.randint(0, 100, size=(dn, 2))\n",
    "        cx = np.random.uniform(min(d[:, 0]), max(d[:, 0]), cn)\n",
    "        cy = np.random.uniform(min(d[:, 1]), max(d[:, 1]), cn)\n",
    "        \n",
    "        with open(p, \"w\") as f:\n",
    "            print(cn, file=f)\n",
    "            for i in range(cn):\n",
    "                print(cx[i], cy[i], file=f)\n",
    "            print(dn, file=f)\n",
    "            f.close()\n",
    "\n",
    "        df = pd.DataFrame(d, columns=c)\n",
    "        df.to_csv(p, sep=\" \", columns=c, mode=\"a\", header=False, index=False)\n",
    "    else:\n",
    "        cx = np.zeros(cn)\n",
    "        cy = np.zeros(cn)\n",
    "        with open(p, \"r\") as f:\n",
    "            cn = int(f.readline())\n",
    "            for i in range(cn):\n",
    "                l = f.readline().split()\n",
    "                cx[i] = float(l[0])\n",
    "                cy[i] = float(l[1])\n",
    "            dn = int(f.readline())\n",
    "            df = pd.read_csv(f, sep=\" \", names=c)\n",
    "    return df.values"
   ]
  },
  {
   "cell_type": "code",
   "execution_count": 4,
   "id": "9b921097",
   "metadata": {},
   "outputs": [],
   "source": [
    "data = generate(20, 3, False)\n",
    "data_n = len(data)\n",
    "data_x = data[:, 0]\n",
    "data_y = data[:, 1]\n",
    "data_c = np.zeros(data_n)\n",
    "centroids_n = 3\n",
    "centroids_x = np.zeros(centroids_n)\n",
    "centroids_y = np.zeros(centroids_n)"
   ]
  },
  {
   "cell_type": "markdown",
   "id": "65a7dbc4",
   "metadata": {},
   "source": [
    "# Implement"
   ]
  },
  {
   "cell_type": "markdown",
   "id": "90a253c8",
   "metadata": {},
   "source": [
    "## STEP01: Place k random centroids"
   ]
  },
  {
   "cell_type": "code",
   "execution_count": 5,
   "id": "99cb76e8",
   "metadata": {},
   "outputs": [
    {
     "name": "stdout",
     "output_type": "stream",
     "text": [
      "[56.85424087 96.58487799 61.97244348]\n",
      "[41.76392431 64.47558173 94.72887539]\n"
     ]
    }
   ],
   "source": [
    "def init(dx, dy, cn):\n",
    "    x = np.random.uniform(min(dx), max(dx), cn)\n",
    "    y = np.random.uniform(min(dy), max(dy), cn)\n",
    "    return x, y\n",
    "\n",
    "init_x, init_y = init(data_x, data_y, centroids_n)\n",
    "print(init_x)\n",
    "print(init_y)"
   ]
  },
  {
   "cell_type": "markdown",
   "id": "ced82f68",
   "metadata": {},
   "source": [
    "## STEP02: Assign datas to nearest centroids"
   ]
  },
  {
   "cell_type": "code",
   "execution_count": 6,
   "id": "4b014530",
   "metadata": {},
   "outputs": [],
   "source": [
    "def distance(x, y, u, v):\n",
    "    return ((x - u)**2 + (y - v)**2)**0.5"
   ]
  },
  {
   "cell_type": "code",
   "execution_count": 7,
   "id": "0882a713",
   "metadata": {},
   "outputs": [],
   "source": [
    "def error(x0, y0, x1, y1):\n",
    "    errors = np.zeros(len(x0))\n",
    "    for i in range(len(errors)):\n",
    "        errors[i] = distance(x0[i], y0[i], x1[i], y1[i])\n",
    "    return errors.all() != 0"
   ]
  },
  {
   "cell_type": "code",
   "execution_count": 8,
   "id": "1d900525",
   "metadata": {},
   "outputs": [],
   "source": [
    "def evaluate(dx, dy, dc, cx, cy):\n",
    "    dn = len(dx)\n",
    "    cn = len(cx)\n",
    "    a = np.zeros(cn)\n",
    "    n = np.zeros(cn)\n",
    "    for d in range(dn):\n",
    "        c = int(dc[d])\n",
    "        a[c] = a[c] + distance(dx[d], dy[d], cx[c], cy[c])\n",
    "        n[c] += 1\n",
    "        if 0 < n[c]:\n",
    "            a[c] = a[c] / n[c]\n",
    "    charting(dx, dy, dc, cx, cy)\n",
    "    return a"
   ]
  },
  {
   "cell_type": "code",
   "execution_count": 9,
   "id": "2af04c63",
   "metadata": {},
   "outputs": [],
   "source": [
    "def nearest(dx, dy, dc, cx, cy):\n",
    "    cn = len(cx)\n",
    "    for i in range(len(dx)):\n",
    "        d = np.zeros(cn)\n",
    "        for j in range(cn):\n",
    "            d[j] = distance(dx[i], dy[i], cx[j], cy[j])\n",
    "        dc[i] = np.argmin(d)"
   ]
  },
  {
   "cell_type": "markdown",
   "id": "fc911a58",
   "metadata": {},
   "source": [
    "## STEP03: Update centroids"
   ]
  },
  {
   "cell_type": "code",
   "execution_count": 10,
   "id": "49c844e0",
   "metadata": {},
   "outputs": [],
   "source": [
    "def means(dx, dy, dc, cn):\n",
    "    dn = len(dx)\n",
    "    mx = np.zeros(cn)\n",
    "    my = np.zeros(cn)\n",
    "    sx = np.zeros(dn)\n",
    "    sy = np.zeros(dn)\n",
    "    sn = np.zeros(dn)\n",
    "    for i in range(dn):\n",
    "        j = int(dc[i])\n",
    "        sx[j] = sx[j] + dx[i]\n",
    "        sy[j] = sy[j] + dy[i]\n",
    "        sn[j] = sn[j] + 1\n",
    "    for i in range(cn):\n",
    "        if sn[i]:\n",
    "            mx[i] = sx[i] / sn[i]\n",
    "            my[i] = sy[i] / sn[i]\n",
    "    return mx, my"
   ]
  },
  {
   "cell_type": "code",
   "execution_count": 11,
   "id": "e4f9f562",
   "metadata": {},
   "outputs": [
    {
     "name": "stdout",
     "output_type": "stream",
     "text": [
      "      n: 11\n",
      "cx: [32.         88.6        52.18181818]\n",
      "cy: [16.5        33.8        87.63636364]\n"
     ]
    },
    {
     "data": {
      "text/plain": [
       "array([9.94776288, 6.59594148, 0.85785799])"
      ]
     },
     "execution_count": 11,
     "metadata": {},
     "output_type": "execute_result"
    },
    {
     "data": {
      "image/png": "[encoded data removed]",
      "text/plain": [
       "<Figure size 432x288 with 1 Axes>"
      ]
     },
     "metadata": {
      "needs_background": "light"
     },
     "output_type": "display_data"
    }
   ],
   "source": [
    "def cluster(dx, dy, dc, cx, cy):\n",
    "    n = 0\n",
    "    while True:\n",
    "        nearest(dx, dy, dc, cx, cy)\n",
    "        mx, my = means(dx, dy, dc, len(cx))\n",
    "        if error(cx, cy, mx, my) is False:\n",
    "            break\n",
    "        cx = deepcopy(mx)\n",
    "        cy = deepcopy(my)\n",
    "        n = n + 1\n",
    "        if 10 < n:\n",
    "            break\n",
    "    print(\"      n:\", n)\n",
    "    return cx, cy, dc\n",
    "cx, cy, dc = cluster(data_x, data_y, data_c, init_x, init_y)\n",
    "evaluate(data_x, data_y, dc, cx, cy)"
   ]
  },
  {
   "cell_type": "code",
   "execution_count": 12,
   "id": "1111a5cb",
   "metadata": {},
   "outputs": [
    {
     "name": "stdout",
     "output_type": "stream",
     "text": [
      "cx: [44.2 88.4 48.2]\n",
      "cy: [13.6 51.4 87.4]\n"
     ]
    },
    {
     "data": {
      "text/plain": [
       "array([9.77596292, 2.8887366 , 0.60293975])"
      ]
     },
     "execution_count": 12,
     "metadata": {},
     "output_type": "execute_result"
    },
    {
     "data": {
      "image/png": "[encoded data removed]",
      "text/plain": [
       "<Figure size 432x288 with 1 Axes>"
      ]
     },
     "metadata": {
      "needs_background": "light"
     },
     "output_type": "display_data"
    }
   ],
   "source": [
    "c, dc = eunsukimme_kmeans(data, centroids_n, init_x, init_y)\n",
    "evaluate(data_x, data_y, dc, c[:, 0], c[:, 1])"
   ]
  },
  {
   "cell_type": "markdown",
   "id": "99c69a76",
   "metadata": {},
   "source": [
    "# Reference using sklearn"
   ]
  },
  {
   "cell_type": "code",
   "execution_count": 13,
   "id": "82e0987c",
   "metadata": {},
   "outputs": [
    {
     "name": "stdout",
     "output_type": "stream",
     "text": [
      "cx: [85.         52.18181818 20.33333333]\n",
      "cy: [28.16666667 87.63636364 22.        ]\n"
     ]
    },
    {
     "data": {
      "image/png": "[encoded data removed]",
      "text/plain": [
       "<Figure size 432x288 with 1 Axes>"
      ]
     },
     "metadata": {
      "needs_background": "light"
     },
     "output_type": "display_data"
    }
   ],
   "source": [
    "def sklean_kmeans(d, n):\n",
    "    k = KMeans(n_clusters=n).fit(d)\n",
    "    charting(d[:, 0], d[:, 1], k.labels_, k.cluster_centers_[:, 0], k.cluster_centers_[:, 1])\n",
    "\n",
    "sklean_kmeans(data, centroids_n)"
   ]
  },
  {
   "cell_type": "markdown",
   "id": "6c436f07",
   "metadata": {},
   "source": [
    "# Reference using  ImadDabbura.kmeans\n",
    "https://towardsdatascience.com/k-means-clustering-algorithm-applications-evaluation-methods-and-drawbacks-aa03e644b48a"
   ]
  },
  {
   "cell_type": "code",
   "execution_count": 14,
   "id": "0e07c8d2",
   "metadata": {},
   "outputs": [
    {
     "name": "stdout",
     "output_type": "stream",
     "text": [
      "cx: [27.66666667 73.57142857 66.28571429]\n",
      "cy: [78.83333333 85.28571429 18.42857143]\n"
     ]
    },
    {
     "data": {
      "image/png": "[encoded data removed]",
      "text/plain": [
       "<Figure size 432x288 with 1 Axes>"
      ]
     },
     "metadata": {
      "needs_background": "light"
     },
     "output_type": "display_data"
    }
   ],
   "source": [
    "def ImadDabburaKmeans(d, n):\n",
    "    km = ImadDabbura.kmeans.Kmeans(n_clusters=n)\n",
    "    km.fit(d)\n",
    "    charting(d[:, 0], d[:, 1], km.labels, km.centroids[:, 0], km.centroids[:, 1])\n",
    "    \n",
    "ImadDabburaKmeans(data, centroids_n)"
   ]
  }
 ],
 "metadata": {
  "kernelspec": {
   "display_name": "Python 3",
   "language": "python",
   "name": "python3"
  },
  "language_info": {
   "codemirror_mode": {
    "name": "ipython",
    "version": 3
   },
   "file_extension": ".py",
   "mimetype": "text/x-python",
   "name": "python",
   "nbconvert_exporter": "python",
   "pygments_lexer": "ipython3",
   "version": "3.8.8"
  }
 },
 "nbformat": 4,
 "nbformat_minor": 5
}
